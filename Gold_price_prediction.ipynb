{
  "nbformat": 4,
  "nbformat_minor": 0,
  "metadata": {
    "colab": {
      "name": "Gold_price_prediction.ipynb",
      "provenance": [],
      "collapsed_sections": [],
      "include_colab_link": true
    },
    "kernelspec": {
      "name": "python3",
      "display_name": "Python 3"
    },
    "language_info": {
      "name": "python"
    }
  },
  "cells": [
    {
      "cell_type": "markdown",
      "metadata": {
        "id": "view-in-github",
        "colab_type": "text"
      },
      "source": [
        "<a href=\"https://colab.research.google.com/github/parth111999/Gold-Price-Prediction/blob/main/Gold_price_prediction.ipynb\" target=\"_parent\"><img src=\"https://colab.research.google.com/assets/colab-badge.svg\" alt=\"Open In Colab\"/></a>"
      ]
    },
    {
      "cell_type": "markdown",
      "metadata": {
        "id": "7XqeFRkCS32V"
      },
      "source": [
        "Importing Libraries"
      ]
    },
    {
      "cell_type": "code",
      "metadata": {
        "id": "9403KKWhS7ZL"
      },
      "source": [
        "import numpy as np\n",
        "import pandas as pd\n",
        "import matplotlib.pyplot as plt\n",
        "import seaborn as sns\n",
        "from sklearn.model_selection import train_test_split\n",
        "from sklearn.ensemble import RandomForestRegressor\n",
        "from sklearn import metrics"
      ],
      "execution_count": 1,
      "outputs": []
    },
    {
      "cell_type": "markdown",
      "metadata": {
        "id": "68pQAwdWU-NK"
      },
      "source": [
        "Data collectin and preocessing\n"
      ]
    },
    {
      "cell_type": "code",
      "metadata": {
        "id": "ERWRITEEVCay"
      },
      "source": [
        "#loading  csv data to the pandas DataFrame\n",
        "gold_data = pd.read_csv('/content/gld_price_data.csv')"
      ],
      "execution_count": 2,
      "outputs": []
    },
    {
      "cell_type": "code",
      "metadata": {
        "colab": {
          "base_uri": "https://localhost:8080/",
          "height": 206
        },
        "id": "-F1xxFw0ViNb",
        "outputId": "2c1f2502-788f-4db9-ea82-0bf98c7fa94c"
      },
      "source": [
        "#print first 5 row in the dataframe\n",
        "gold_data.head()"
      ],
      "execution_count": 3,
      "outputs": [
        {
          "output_type": "execute_result",
          "data": {
            "text/html": [
              "<div>\n",
              "<style scoped>\n",
              "    .dataframe tbody tr th:only-of-type {\n",
              "        vertical-align: middle;\n",
              "    }\n",
              "\n",
              "    .dataframe tbody tr th {\n",
              "        vertical-align: top;\n",
              "    }\n",
              "\n",
              "    .dataframe thead th {\n",
              "        text-align: right;\n",
              "    }\n",
              "</style>\n",
              "<table border=\"1\" class=\"dataframe\">\n",
              "  <thead>\n",
              "    <tr style=\"text-align: right;\">\n",
              "      <th></th>\n",
              "      <th>Date</th>\n",
              "      <th>SPX</th>\n",
              "      <th>GLD</th>\n",
              "      <th>USO</th>\n",
              "      <th>SLV</th>\n",
              "      <th>EUR/USD</th>\n",
              "    </tr>\n",
              "  </thead>\n",
              "  <tbody>\n",
              "    <tr>\n",
              "      <th>0</th>\n",
              "      <td>1/2/2008</td>\n",
              "      <td>1447.160034</td>\n",
              "      <td>84.860001</td>\n",
              "      <td>78.470001</td>\n",
              "      <td>15.180</td>\n",
              "      <td>1.471692</td>\n",
              "    </tr>\n",
              "    <tr>\n",
              "      <th>1</th>\n",
              "      <td>1/3/2008</td>\n",
              "      <td>1447.160034</td>\n",
              "      <td>85.570000</td>\n",
              "      <td>78.370003</td>\n",
              "      <td>15.285</td>\n",
              "      <td>1.474491</td>\n",
              "    </tr>\n",
              "    <tr>\n",
              "      <th>2</th>\n",
              "      <td>1/4/2008</td>\n",
              "      <td>1411.630005</td>\n",
              "      <td>85.129997</td>\n",
              "      <td>77.309998</td>\n",
              "      <td>15.167</td>\n",
              "      <td>1.475492</td>\n",
              "    </tr>\n",
              "    <tr>\n",
              "      <th>3</th>\n",
              "      <td>1/7/2008</td>\n",
              "      <td>1416.180054</td>\n",
              "      <td>84.769997</td>\n",
              "      <td>75.500000</td>\n",
              "      <td>15.053</td>\n",
              "      <td>1.468299</td>\n",
              "    </tr>\n",
              "    <tr>\n",
              "      <th>4</th>\n",
              "      <td>1/8/2008</td>\n",
              "      <td>1390.189941</td>\n",
              "      <td>86.779999</td>\n",
              "      <td>76.059998</td>\n",
              "      <td>15.590</td>\n",
              "      <td>1.557099</td>\n",
              "    </tr>\n",
              "  </tbody>\n",
              "</table>\n",
              "</div>"
            ],
            "text/plain": [
              "       Date          SPX        GLD        USO     SLV   EUR/USD\n",
              "0  1/2/2008  1447.160034  84.860001  78.470001  15.180  1.471692\n",
              "1  1/3/2008  1447.160034  85.570000  78.370003  15.285  1.474491\n",
              "2  1/4/2008  1411.630005  85.129997  77.309998  15.167  1.475492\n",
              "3  1/7/2008  1416.180054  84.769997  75.500000  15.053  1.468299\n",
              "4  1/8/2008  1390.189941  86.779999  76.059998  15.590  1.557099"
            ]
          },
          "metadata": {},
          "execution_count": 3
        }
      ]
    },
    {
      "cell_type": "code",
      "metadata": {
        "colab": {
          "base_uri": "https://localhost:8080/",
          "height": 206
        },
        "id": "-pe99WXOVy_e",
        "outputId": "7efa4fa2-b9dd-4d50-d72e-cac7a2ec04c6"
      },
      "source": [
        "#print last 5 row in the dataframe\n",
        "gold_data.tail()"
      ],
      "execution_count": 4,
      "outputs": [
        {
          "output_type": "execute_result",
          "data": {
            "text/html": [
              "<div>\n",
              "<style scoped>\n",
              "    .dataframe tbody tr th:only-of-type {\n",
              "        vertical-align: middle;\n",
              "    }\n",
              "\n",
              "    .dataframe tbody tr th {\n",
              "        vertical-align: top;\n",
              "    }\n",
              "\n",
              "    .dataframe thead th {\n",
              "        text-align: right;\n",
              "    }\n",
              "</style>\n",
              "<table border=\"1\" class=\"dataframe\">\n",
              "  <thead>\n",
              "    <tr style=\"text-align: right;\">\n",
              "      <th></th>\n",
              "      <th>Date</th>\n",
              "      <th>SPX</th>\n",
              "      <th>GLD</th>\n",
              "      <th>USO</th>\n",
              "      <th>SLV</th>\n",
              "      <th>EUR/USD</th>\n",
              "    </tr>\n",
              "  </thead>\n",
              "  <tbody>\n",
              "    <tr>\n",
              "      <th>2285</th>\n",
              "      <td>5/8/2018</td>\n",
              "      <td>2671.919922</td>\n",
              "      <td>124.589996</td>\n",
              "      <td>14.0600</td>\n",
              "      <td>15.5100</td>\n",
              "      <td>1.186789</td>\n",
              "    </tr>\n",
              "    <tr>\n",
              "      <th>2286</th>\n",
              "      <td>5/9/2018</td>\n",
              "      <td>2697.790039</td>\n",
              "      <td>124.330002</td>\n",
              "      <td>14.3700</td>\n",
              "      <td>15.5300</td>\n",
              "      <td>1.184722</td>\n",
              "    </tr>\n",
              "    <tr>\n",
              "      <th>2287</th>\n",
              "      <td>5/10/2018</td>\n",
              "      <td>2723.070068</td>\n",
              "      <td>125.180000</td>\n",
              "      <td>14.4100</td>\n",
              "      <td>15.7400</td>\n",
              "      <td>1.191753</td>\n",
              "    </tr>\n",
              "    <tr>\n",
              "      <th>2288</th>\n",
              "      <td>5/14/2018</td>\n",
              "      <td>2730.129883</td>\n",
              "      <td>124.489998</td>\n",
              "      <td>14.3800</td>\n",
              "      <td>15.5600</td>\n",
              "      <td>1.193118</td>\n",
              "    </tr>\n",
              "    <tr>\n",
              "      <th>2289</th>\n",
              "      <td>5/16/2018</td>\n",
              "      <td>2725.780029</td>\n",
              "      <td>122.543800</td>\n",
              "      <td>14.4058</td>\n",
              "      <td>15.4542</td>\n",
              "      <td>1.182033</td>\n",
              "    </tr>\n",
              "  </tbody>\n",
              "</table>\n",
              "</div>"
            ],
            "text/plain": [
              "           Date          SPX         GLD      USO      SLV   EUR/USD\n",
              "2285   5/8/2018  2671.919922  124.589996  14.0600  15.5100  1.186789\n",
              "2286   5/9/2018  2697.790039  124.330002  14.3700  15.5300  1.184722\n",
              "2287  5/10/2018  2723.070068  125.180000  14.4100  15.7400  1.191753\n",
              "2288  5/14/2018  2730.129883  124.489998  14.3800  15.5600  1.193118\n",
              "2289  5/16/2018  2725.780029  122.543800  14.4058  15.4542  1.182033"
            ]
          },
          "metadata": {},
          "execution_count": 4
        }
      ]
    },
    {
      "cell_type": "code",
      "metadata": {
        "colab": {
          "base_uri": "https://localhost:8080/"
        },
        "id": "BHkFeruOXQbw",
        "outputId": "2d663400-26dd-4ca3-995f-b194659c7eaf"
      },
      "source": [
        "#number of rows of the dataframes\n",
        "gold_data.shape"
      ],
      "execution_count": 5,
      "outputs": [
        {
          "output_type": "execute_result",
          "data": {
            "text/plain": [
              "(2290, 6)"
            ]
          },
          "metadata": {},
          "execution_count": 5
        }
      ]
    },
    {
      "cell_type": "code",
      "metadata": {
        "colab": {
          "base_uri": "https://localhost:8080/"
        },
        "id": "qGWzueP6XbV8",
        "outputId": "f5bb9c93-e41f-4586-cc11-ee8129b0acd3"
      },
      "source": [
        "#getting some basic information about the data\n",
        "gold_data.info()"
      ],
      "execution_count": 6,
      "outputs": [
        {
          "output_type": "stream",
          "name": "stdout",
          "text": [
            "<class 'pandas.core.frame.DataFrame'>\n",
            "RangeIndex: 2290 entries, 0 to 2289\n",
            "Data columns (total 6 columns):\n",
            " #   Column   Non-Null Count  Dtype  \n",
            "---  ------   --------------  -----  \n",
            " 0   Date     2290 non-null   object \n",
            " 1   SPX      2290 non-null   float64\n",
            " 2   GLD      2290 non-null   float64\n",
            " 3   USO      2290 non-null   float64\n",
            " 4   SLV      2290 non-null   float64\n",
            " 5   EUR/USD  2290 non-null   float64\n",
            "dtypes: float64(5), object(1)\n",
            "memory usage: 107.5+ KB\n"
          ]
        }
      ]
    },
    {
      "cell_type": "code",
      "metadata": {
        "colab": {
          "base_uri": "https://localhost:8080/"
        },
        "id": "RTSwPkwhXrWB",
        "outputId": "dbc8bc03-faea-4be6-9d10-515b0fd6db8e"
      },
      "source": [
        "#checking the number of missing values\n",
        "gold_data.isnull().sum()"
      ],
      "execution_count": 7,
      "outputs": [
        {
          "output_type": "execute_result",
          "data": {
            "text/plain": [
              "Date       0\n",
              "SPX        0\n",
              "GLD        0\n",
              "USO        0\n",
              "SLV        0\n",
              "EUR/USD    0\n",
              "dtype: int64"
            ]
          },
          "metadata": {},
          "execution_count": 7
        }
      ]
    },
    {
      "cell_type": "code",
      "metadata": {
        "colab": {
          "base_uri": "https://localhost:8080/",
          "height": 300
        },
        "id": "d36r0V0IX78a",
        "outputId": "2f3aa864-5bd3-4abe-854c-0bbfbf73a7e2"
      },
      "source": [
        "#getting the statistical measures of data\n",
        "gold_data.describe()"
      ],
      "execution_count": 8,
      "outputs": [
        {
          "output_type": "execute_result",
          "data": {
            "text/html": [
              "<div>\n",
              "<style scoped>\n",
              "    .dataframe tbody tr th:only-of-type {\n",
              "        vertical-align: middle;\n",
              "    }\n",
              "\n",
              "    .dataframe tbody tr th {\n",
              "        vertical-align: top;\n",
              "    }\n",
              "\n",
              "    .dataframe thead th {\n",
              "        text-align: right;\n",
              "    }\n",
              "</style>\n",
              "<table border=\"1\" class=\"dataframe\">\n",
              "  <thead>\n",
              "    <tr style=\"text-align: right;\">\n",
              "      <th></th>\n",
              "      <th>SPX</th>\n",
              "      <th>GLD</th>\n",
              "      <th>USO</th>\n",
              "      <th>SLV</th>\n",
              "      <th>EUR/USD</th>\n",
              "    </tr>\n",
              "  </thead>\n",
              "  <tbody>\n",
              "    <tr>\n",
              "      <th>count</th>\n",
              "      <td>2290.000000</td>\n",
              "      <td>2290.000000</td>\n",
              "      <td>2290.000000</td>\n",
              "      <td>2290.000000</td>\n",
              "      <td>2290.000000</td>\n",
              "    </tr>\n",
              "    <tr>\n",
              "      <th>mean</th>\n",
              "      <td>1654.315776</td>\n",
              "      <td>122.732875</td>\n",
              "      <td>31.842221</td>\n",
              "      <td>20.084997</td>\n",
              "      <td>1.283653</td>\n",
              "    </tr>\n",
              "    <tr>\n",
              "      <th>std</th>\n",
              "      <td>519.111540</td>\n",
              "      <td>23.283346</td>\n",
              "      <td>19.523517</td>\n",
              "      <td>7.092566</td>\n",
              "      <td>0.131547</td>\n",
              "    </tr>\n",
              "    <tr>\n",
              "      <th>min</th>\n",
              "      <td>676.530029</td>\n",
              "      <td>70.000000</td>\n",
              "      <td>7.960000</td>\n",
              "      <td>8.850000</td>\n",
              "      <td>1.039047</td>\n",
              "    </tr>\n",
              "    <tr>\n",
              "      <th>25%</th>\n",
              "      <td>1239.874969</td>\n",
              "      <td>109.725000</td>\n",
              "      <td>14.380000</td>\n",
              "      <td>15.570000</td>\n",
              "      <td>1.171313</td>\n",
              "    </tr>\n",
              "    <tr>\n",
              "      <th>50%</th>\n",
              "      <td>1551.434998</td>\n",
              "      <td>120.580002</td>\n",
              "      <td>33.869999</td>\n",
              "      <td>17.268500</td>\n",
              "      <td>1.303296</td>\n",
              "    </tr>\n",
              "    <tr>\n",
              "      <th>75%</th>\n",
              "      <td>2073.010070</td>\n",
              "      <td>132.840004</td>\n",
              "      <td>37.827501</td>\n",
              "      <td>22.882499</td>\n",
              "      <td>1.369971</td>\n",
              "    </tr>\n",
              "    <tr>\n",
              "      <th>max</th>\n",
              "      <td>2872.870117</td>\n",
              "      <td>184.589996</td>\n",
              "      <td>117.480003</td>\n",
              "      <td>47.259998</td>\n",
              "      <td>1.598798</td>\n",
              "    </tr>\n",
              "  </tbody>\n",
              "</table>\n",
              "</div>"
            ],
            "text/plain": [
              "               SPX          GLD          USO          SLV      EUR/USD\n",
              "count  2290.000000  2290.000000  2290.000000  2290.000000  2290.000000\n",
              "mean   1654.315776   122.732875    31.842221    20.084997     1.283653\n",
              "std     519.111540    23.283346    19.523517     7.092566     0.131547\n",
              "min     676.530029    70.000000     7.960000     8.850000     1.039047\n",
              "25%    1239.874969   109.725000    14.380000    15.570000     1.171313\n",
              "50%    1551.434998   120.580002    33.869999    17.268500     1.303296\n",
              "75%    2073.010070   132.840004    37.827501    22.882499     1.369971\n",
              "max    2872.870117   184.589996   117.480003    47.259998     1.598798"
            ]
          },
          "metadata": {},
          "execution_count": 8
        }
      ]
    },
    {
      "cell_type": "markdown",
      "metadata": {
        "id": "xmf_zoLjZAPq"
      },
      "source": [
        "Correlation:\n",
        "*   Positive correlation\n",
        "*   Negative correlation"
      ]
    },
    {
      "cell_type": "code",
      "metadata": {
        "id": "Tj8g4ToRYWXa"
      },
      "source": [
        "correlation = gold_data.corr()"
      ],
      "execution_count": 9,
      "outputs": []
    },
    {
      "cell_type": "code",
      "metadata": {
        "colab": {
          "base_uri": "https://localhost:8080/",
          "height": 487
        },
        "id": "z2gwbdQ4avWc",
        "outputId": "4a7671e0-268d-4156-f69c-7daec35a5405"
      },
      "source": [
        "#constructing a heat map to understand the correlation \n",
        "plt.figure(figsize = (8,8))\n",
        "sns.heatmap(correlation, cbar= True, square= True, fmt='.1f' , annot =True ,annot_kws={'size':8},cmap='Blues')"
      ],
      "execution_count": 10,
      "outputs": [
        {
          "output_type": "execute_result",
          "data": {
            "text/plain": [
              "<matplotlib.axes._subplots.AxesSubplot at 0x7f058d9dc110>"
            ]
          },
          "metadata": {},
          "execution_count": 10
        },
        {
          "output_type": "display_data",
          "data": {
            "image/png": "[encoded data removed]",
            "text/plain": [
              "<Figure size 576x576 with 2 Axes>"
            ]
          },
          "metadata": {
            "needs_background": "light"
          }
        }
      ]
    },
    {
      "cell_type": "code",
      "metadata": {
        "id": "-Z8IeWvdcJL4",
        "colab": {
          "base_uri": "https://localhost:8080/"
        },
        "outputId": "0ed3eae4-dfe7-4325-be31-75aa8bf312fe"
      },
      "source": [
        "#correlation values of gld\n",
        "print(correlation['GLD'])"
      ],
      "execution_count": 11,
      "outputs": [
        {
          "output_type": "stream",
          "name": "stdout",
          "text": [
            "SPX        0.049345\n",
            "GLD        1.000000\n",
            "USO       -0.186360\n",
            "SLV        0.866632\n",
            "EUR/USD   -0.024375\n",
            "Name: GLD, dtype: float64\n"
          ]
        }
      ]
    },
    {
      "cell_type": "code",
      "metadata": {
        "colab": {
          "base_uri": "https://localhost:8080/",
          "height": 355
        },
        "id": "7MqGstZJvxDO",
        "outputId": "44b4ac2a-6e6a-4efb-e5d4-5448b6b126d8"
      },
      "source": [
        "#cheeck the distribution of the GLD price\n",
        "sns.distplot(gold_data['GLD'],color = 'green')"
      ],
      "execution_count": 12,
      "outputs": [
        {
          "output_type": "stream",
          "name": "stderr",
          "text": [
            "/usr/local/lib/python3.7/dist-packages/seaborn/distributions.py:2619: FutureWarning: `distplot` is a deprecated function and will be removed in a future version. Please adapt your code to use either `displot` (a figure-level function with similar flexibility) or `histplot` (an axes-level function for histograms).\n",
            "  warnings.warn(msg, FutureWarning)\n"
          ]
        },
        {
          "output_type": "execute_result",
          "data": {
            "text/plain": [
              "<matplotlib.axes._subplots.AxesSubplot at 0x7f057fdf76d0>"
            ]
          },
          "metadata": {},
          "execution_count": 12
        },
        {
          "output_type": "display_data",
          "data": {
            "image/png": "[encoded data removed]",
            "text/plain": [
              "<Figure size 432x288 with 1 Axes>"
            ]
          },
          "metadata": {
            "needs_background": "light"
          }
        }
      ]
    },
    {
      "cell_type": "markdown",
      "metadata": {
        "id": "HSjhKrTYVo6R"
      },
      "source": [
        "Splitting the Features and Target"
      ]
    },
    {
      "cell_type": "code",
      "metadata": {
        "id": "I8gGiyY0TAuu"
      },
      "source": [
        "X= gold_data.drop(['Date','GLD'],axis=1)\n",
        "Y=gold_data['GLD']"
      ],
      "execution_count": 13,
      "outputs": []
    },
    {
      "cell_type": "code",
      "metadata": {
        "colab": {
          "base_uri": "https://localhost:8080/"
        },
        "id": "VCpnD4hLWEzk",
        "outputId": "247aa769-61d8-4962-d158-ba4af82a6db5"
      },
      "source": [
        "print(X)"
      ],
      "execution_count": 14,
      "outputs": [
        {
          "output_type": "stream",
          "name": "stdout",
          "text": [
            "              SPX        USO      SLV   EUR/USD\n",
            "0     1447.160034  78.470001  15.1800  1.471692\n",
            "1     1447.160034  78.370003  15.2850  1.474491\n",
            "2     1411.630005  77.309998  15.1670  1.475492\n",
            "3     1416.180054  75.500000  15.0530  1.468299\n",
            "4     1390.189941  76.059998  15.5900  1.557099\n",
            "...           ...        ...      ...       ...\n",
            "2285  2671.919922  14.060000  15.5100  1.186789\n",
            "2286  2697.790039  14.370000  15.5300  1.184722\n",
            "2287  2723.070068  14.410000  15.7400  1.191753\n",
            "2288  2730.129883  14.380000  15.5600  1.193118\n",
            "2289  2725.780029  14.405800  15.4542  1.182033\n",
            "\n",
            "[2290 rows x 4 columns]\n"
          ]
        }
      ]
    },
    {
      "cell_type": "code",
      "metadata": {
        "colab": {
          "base_uri": "https://localhost:8080/"
        },
        "id": "XCce6KFhWPND",
        "outputId": "5b15ac7c-03f2-4987-9668-7e3e3ea37889"
      },
      "source": [
        "print(Y)"
      ],
      "execution_count": 15,
      "outputs": [
        {
          "output_type": "stream",
          "name": "stdout",
          "text": [
            "0        84.860001\n",
            "1        85.570000\n",
            "2        85.129997\n",
            "3        84.769997\n",
            "4        86.779999\n",
            "           ...    \n",
            "2285    124.589996\n",
            "2286    124.330002\n",
            "2287    125.180000\n",
            "2288    124.489998\n",
            "2289    122.543800\n",
            "Name: GLD, Length: 2290, dtype: float64\n"
          ]
        }
      ]
    },
    {
      "cell_type": "markdown",
      "metadata": {
        "id": "v4bCOhsFWlCw"
      },
      "source": [
        "SPlitting into train data and test data"
      ]
    },
    {
      "cell_type": "code",
      "metadata": {
        "id": "WEhJp_sTWbWc"
      },
      "source": [
        "X_train,X_test,Y_train,Y_test=train_test_split(X,Y,test_size=0.2,random_state=2)"
      ],
      "execution_count": 16,
      "outputs": []
    },
    {
      "cell_type": "markdown",
      "metadata": {
        "id": "JkYtV_TxXLxY"
      },
      "source": [
        "Model Training:Random Forest Model"
      ]
    },
    {
      "cell_type": "code",
      "metadata": {
        "id": "gCfJWH4dXHMK"
      },
      "source": [
        "regressor= RandomForestRegressor(n_estimators=100)"
      ],
      "execution_count": 17,
      "outputs": []
    },
    {
      "cell_type": "code",
      "metadata": {
        "colab": {
          "base_uri": "https://localhost:8080/"
        },
        "id": "dFL-Ve_TXzsd",
        "outputId": "865653f0-b801-4910-989a-561feb656373"
      },
      "source": [
        "#training the model\n",
        "regressor.fit(X_train,Y_train)"
      ],
      "execution_count": 18,
      "outputs": [
        {
          "output_type": "execute_result",
          "data": {
            "text/plain": [
              "RandomForestRegressor(bootstrap=True, ccp_alpha=0.0, criterion='mse',\n",
              "                      max_depth=None, max_features='auto', max_leaf_nodes=None,\n",
              "                      max_samples=None, min_impurity_decrease=0.0,\n",
              "                      min_impurity_split=None, min_samples_leaf=1,\n",
              "                      min_samples_split=2, min_weight_fraction_leaf=0.0,\n",
              "                      n_estimators=100, n_jobs=None, oob_score=False,\n",
              "                      random_state=None, verbose=0, warm_start=False)"
            ]
          },
          "metadata": {},
          "execution_count": 18
        }
      ]
    },
    {
      "cell_type": "markdown",
      "metadata": {
        "id": "YsNP48xwYCuS"
      },
      "source": [
        "Model Evaluation"
      ]
    },
    {
      "cell_type": "code",
      "metadata": {
        "id": "PqJCa_UjX-q6"
      },
      "source": [
        "#prediction on Test Data\n",
        "test_data_prediction=regressor.predict(X_test)"
      ],
      "execution_count": 19,
      "outputs": []
    },
    {
      "cell_type": "code",
      "metadata": {
        "colab": {
          "base_uri": "https://localhost:8080/"
        },
        "id": "lk20pDfsYVEf",
        "outputId": "03f98dce-8b3b-47b5-f592-1501d59a4b3f"
      },
      "source": [
        "print(test_data_prediction)"
      ],
      "execution_count": 20,
      "outputs": [
        {
          "output_type": "stream",
          "name": "stdout",
          "text": [
            "[168.40869966  82.09630003 115.9742999  127.61740067 120.78010146\n",
            " 154.73529828 150.34049866 126.21920015 117.45209869 126.07740042\n",
            " 116.64220089 171.71900022 141.57999915 167.9509982  115.21200012\n",
            " 117.38290036 139.88970228 170.37440106 159.81860284 162.81289941\n",
            " 155.1124     125.25859975 175.69559929 156.71370338 125.26910074\n",
            "  93.89929963  77.33290014 120.46999974 119.17319969 167.59189988\n",
            "  88.12080052 125.15900009  91.02600072 117.65430004 121.24899964\n",
            " 136.51800025 115.49150116 115.34920058 148.1053     106.85860072\n",
            " 104.8515025   87.17999757 126.44790045 117.98769947 153.11009874\n",
            " 119.60900023 108.37500006 108.20729779  93.25540048 126.95219841\n",
            "  75.33120025 113.58869909 121.25210023 111.24869947 118.81769878\n",
            " 120.83529961 158.20859904 168.63460128 147.19919706  85.81889843\n",
            "  94.23500042  86.82949881  90.59990075 118.9721008  126.51010057\n",
            " 127.47949982 169.95610029 122.33529913 117.33079915  98.60910058\n",
            " 168.34890129 142.88969843 131.65480281 121.23360238 121.58589924\n",
            " 119.77880047 114.5499016  118.44790043 106.73760077 127.92310044\n",
            " 113.9816996  107.06349994 116.50220075 119.54869944  89.14520031\n",
            "  88.22909868 145.96710266 127.15020034 113.27800057 110.12719839\n",
            " 108.33749908  77.391499   169.75860184 114.05759892 121.5403993\n",
            " 127.7374017  154.81519805  91.75549965 135.94720127 158.15140194\n",
            " 125.59720074 125.20630045 130.5185013  114.75200127 119.66900012\n",
            "  92.09199979 110.49099891 168.16969952 155.68179916 114.09819912\n",
            " 106.5990014   79.27569999 113.21550076 125.81290082 107.31119932\n",
            " 119.70890128 155.47570374 160.05009895 120.70389993 134.13370266\n",
            " 101.21200061 117.29639812 119.11350025 113.05240073 102.73729929\n",
            " 160.17629826  99.60450049 147.42899909 125.67750113 169.95059866\n",
            " 125.76619937 127.3818974  127.502002   113.6755995  112.99670078\n",
            " 123.49119902 102.14689901  89.34319982 124.38949992 101.87459939\n",
            " 107.03729908 113.80070078 117.23340053  99.33619979 121.70140022\n",
            " 163.38409874  87.40319847 106.8868997  117.19840051 127.81540125\n",
            " 123.96710077  80.75689922 120.30370028 158.02049823  87.74909942\n",
            " 110.58499905 118.95159933 172.10779867 103.10319874 105.59000006\n",
            " 122.44440053 158.17569841  87.64019844  93.13750054 112.73390069\n",
            " 177.10119937 114.52259981 119.2317001   94.80140114 125.85269972\n",
            " 166.20420146 115.00200062 116.70460136  88.26009861 149.25500135\n",
            " 120.33389947  89.38669963 112.62740042 117.16710045 118.75520103\n",
            "  88.11309944  94.19610001 116.64590013 118.6221018  120.09800008\n",
            " 126.92209793 121.86189968 150.78079986 164.95610047 118.4485996\n",
            " 120.50310166 150.93140033 118.13019937 172.16589923 105.78889941\n",
            " 105.06740099 149.54080137 113.90790084 124.9385009  147.4063994\n",
            " 119.58320126 115.35440015 112.76640045 113.5765018  141.84180141\n",
            " 117.73799775 102.95620045 115.84750104 103.72080175  98.86390036\n",
            " 117.5357008   90.68149985  91.40550058 153.84089867 102.73589955\n",
            " 155.28890059 114.46150139 139.62980089  90.18319797 115.52219972\n",
            " 114.61519992 123.0009006  121.7945001  165.23360206  92.89869935\n",
            " 135.13040092 121.3253993  120.78180083 104.49760045 141.85550218\n",
            " 121.55689929 116.60230041 113.610101   127.06509783 122.77999948\n",
            " 125.77850021 121.16920063  86.80999907 132.36550185 143.81320238\n",
            "  92.66489912 158.56219945 157.4663009  126.49579951 164.85119953\n",
            " 108.84999976 109.49560076 103.67359844  94.24010054 127.46060261\n",
            " 107.08470057 161.79170015 121.67160009 131.93779982 130.56130126\n",
            " 160.50179929  90.14589828 175.05640174 128.03840021 126.83869844\n",
            "  86.36149923 124.7583995  150.23839763  89.59990001 107.06179964\n",
            " 109.01339982  84.69739912 136.52749978 155.18740189 139.5528029\n",
            "  73.64540017 151.81580084 126.51650004 126.74969995 127.56219891\n",
            " 108.60339954 156.389201   114.48140088 116.93660142 125.07129912\n",
            " 154.2714012  121.49980014 156.31719939  93.0235005  125.5220014\n",
            " 125.6905007   88.04450042  92.12089929 126.33979922 127.93160282\n",
            " 113.08260002 117.63729747 120.76730033 127.08809862 119.95740128\n",
            " 136.42270053  94.06789949 119.77410046 113.45670127  94.34139969\n",
            " 108.81359946  87.41669925 108.77619931  89.61439989  92.28590039\n",
            " 131.52960341 162.46910028  88.94170054 119.95540073 133.41630207\n",
            " 123.66280017 128.48430157 101.95779833  89.094599   131.36450062\n",
            " 120.49050031 108.58550037 168.86940067 115.32810055  86.50089898\n",
            " 118.76160065  91.11489956 161.84659953 116.7738004  121.61160002\n",
            " 160.05579788 120.13449935 112.48079965 108.46599882 126.62390023\n",
            "  76.17100044 103.00010003 127.31340239 121.82789874  92.69379969\n",
            " 132.86340032 118.13040135 115.99380035 154.71400275 159.99010069\n",
            " 110.00539951 155.84349745 119.24140068 160.54430059 118.60450029\n",
            " 158.24219872 115.06209981 116.56550029 148.52389912 114.91430049\n",
            " 125.6900987  165.70559921 117.78160032 125.27499964 153.4938028\n",
            " 153.3956022  132.13400136 114.74620019 121.28250205 124.66140061\n",
            "  89.70970063 123.41239952 155.08870281 111.66490035 107.00829977\n",
            " 161.65110205 118.5660001  165.67250043 134.16760075 114.8175999\n",
            " 153.0442993  168.74240032 115.18340019 113.98280134 159.12019916\n",
            "  85.50909878 127.18610067 127.92040007 128.9265999  124.36030085\n",
            " 123.90410113  90.57520064 153.05860057  97.16329975 138.23639941\n",
            "  89.19709933 107.08350001 114.93260017 112.90210108 124.57689901\n",
            "  91.52619866 125.41940136 162.41169843 120.19199911 164.77360173\n",
            " 126.89809806 112.31500027 127.64269939  94.93979895  90.98460014\n",
            " 103.19619903 120.6657003   83.42479932 126.44390013 160.73830454\n",
            " 117.21170119 118.17159977 119.85849958 122.51849964 120.08750153\n",
            " 121.53209981 118.21990028 107.17989984 148.46120019 126.25419886\n",
            " 115.78310096  74.07060003 127.88760091 154.06790081 122.58190001\n",
            " 125.57240035  88.97630078 103.57159883 124.78770076 120.24070003\n",
            "  73.24320096 151.93800061 121.27510044 104.69510015  86.46299778\n",
            " 114.86059901 172.13579832 120.09420026 159.88619797 113.21439972\n",
            " 121.5492002  118.37690132  95.92159982 118.69520039 125.71730068\n",
            " 118.49809931  95.6807006  154.26600186 122.21380028 147.3657998\n",
            " 159.30810234 113.9040002  122.55049932 148.85499763 127.38950025\n",
            " 165.75780078 136.72850101 119.79569964 167.52999826 108.50939915\n",
            " 121.88589857 140.05290118 106.70429918]\n"
          ]
        }
      ]
    },
    {
      "cell_type": "code",
      "metadata": {
        "colab": {
          "base_uri": "https://localhost:8080/"
        },
        "id": "nIeyz7JRYZQJ",
        "outputId": "c6fe9f2f-82c9-47eb-840c-ac98fb3bbaca"
      },
      "source": [
        "#R Squared error\n",
        "error_score =metrics.r2_score(Y_test,test_data_prediction)\n",
        "print(\"R Square error:\",error_score)"
      ],
      "execution_count": 21,
      "outputs": [
        {
          "output_type": "stream",
          "name": "stdout",
          "text": [
            "R Square error: 0.989061773192874\n"
          ]
        }
      ]
    },
    {
      "cell_type": "markdown",
      "metadata": {
        "id": "bsDRxA5nZQw5"
      },
      "source": [
        "Compare the actual values and predicted values in a Plot"
      ]
    },
    {
      "cell_type": "code",
      "metadata": {
        "id": "1Xcpp2PzY_kK"
      },
      "source": [
        "Y_test=list(Y_test)"
      ],
      "execution_count": 22,
      "outputs": []
    },
    {
      "cell_type": "code",
      "metadata": {
        "colab": {
          "base_uri": "https://localhost:8080/",
          "height": 279
        },
        "id": "7QESowylZb9j",
        "outputId": "4e955b28-a326-4887-a3a1-62561fc9b26d"
      },
      "source": [
        "plt.plot(Y_test,color='blue', label='Actual Value')\n",
        "plt.plot(test_data_prediction,color='green',label='Predicted Value')\n",
        "plt.xlabel('Number of values')\n",
        "plt.ylabel('GLD Price')\n",
        "plt.legend()\n",
        "plt.show()"
      ],
      "execution_count": 23,
      "outputs": [
        {
          "output_type": "display_data",
          "data": {
            "image/png": "[encoded data removed]",
            "text/plain": [
              "<Figure size 432x288 with 1 Axes>"
            ]
          },
          "metadata": {
            "needs_background": "light"
          }
        }
      ]
    }
  ]
}